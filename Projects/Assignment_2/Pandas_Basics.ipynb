{
 "cells": [
  {
   "cell_type": "markdown",
   "metadata": {},
   "source": [
    "# Pandas Basics \n",
    "### Importing \n",
    "import pandas as pd \n",
    "\n",
    "### Loading a dataset \n",
    "df = pd.read_csv(\"my_data.csv\")\n",
    " \n",
    "### General Data Info \n",
    "- df.info() -> Returns brief information about each column within dataframe \n",
    "\n",
    "- df.head() -> Returns the first 5 rows of the dataframe \n",
    "\n",
    "- df.tail() -> Returns the last 5 rows of the dataframe \n",
    "\n",
    "- df.describe() -> Returns generalizaed statistical indicators based on the data inside the dataframe \n",
    "\n"
   ]
  }
 ],
 "metadata": {
  "kernelspec": {
   "display_name": "Python 3",
   "language": "python",
   "name": "python3"
  },
  "language_info": {
   "name": "python",
   "version": "3.10.0"
  }
 },
 "nbformat": 4,
 "nbformat_minor": 2
}
